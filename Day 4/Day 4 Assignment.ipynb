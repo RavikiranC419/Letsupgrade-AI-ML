{
 "cells": [
  {
   "cell_type": "markdown",
   "metadata": {},
   "source": [
    "# Question 1\n",
    "__Research on whether addition, subtraction, multiplication, division, floor division and modulo operations be performed on complex numbers__\n",
    "\n",
    "___Only Addition, Subtraction, Multiplication & Division operations can be performed on complex numbers.___\n",
    "\n",
    "___Floor division and Modulo operations are not defined for complex numbers.___"
   ]
  },
  {
   "cell_type": "code",
   "execution_count": 3,
   "metadata": {},
   "outputs": [
    {
     "name": "stdout",
     "output_type": "stream",
     "text": [
      "(11+2j)\n"
     ]
    }
   ],
   "source": [
    "# Addition operation\n",
    "\n",
    "a = (3+4j)\n",
    "b = (8-2j)\n",
    "i = a+b\n",
    "print (i)"
   ]
  },
  {
   "cell_type": "code",
   "execution_count": 5,
   "metadata": {},
   "outputs": [
    {
     "name": "stdout",
     "output_type": "stream",
     "text": [
      "(-5+6j)\n"
     ]
    }
   ],
   "source": [
    "# Subtraction Operation\n",
    "\n",
    "a = (3+4j)\n",
    "b = (8-2j)\n",
    "i = a-b\n",
    "print (i)"
   ]
  },
  {
   "cell_type": "code",
   "execution_count": 7,
   "metadata": {},
   "outputs": [
    {
     "name": "stdout",
     "output_type": "stream",
     "text": [
      "(32+26j)\n"
     ]
    }
   ],
   "source": [
    "# Multipication operation\n",
    "\n",
    "a = (3+4j)\n",
    "b = (8-2j)\n",
    "i = a*b\n",
    "print (i)"
   ]
  },
  {
   "cell_type": "code",
   "execution_count": 10,
   "metadata": {},
   "outputs": [
    {
     "name": "stdout",
     "output_type": "stream",
     "text": [
      "(0.23529411764705882+0.5588235294117647j)\n"
     ]
    }
   ],
   "source": [
    "# Division operation\n",
    "\n",
    "a = (3+4j)\n",
    "b = (8-2j)\n",
    "i = a/b\n",
    "print (i)"
   ]
  },
  {
   "cell_type": "markdown",
   "metadata": {},
   "source": [
    "# Question 2\n",
    "__Research on range() functions__\n",
    "\n",
    "___Range function returns sequence of numbers starting from 0.___\n",
    "\n",
    "___range(n) returns sequence of numbers from 0 to n-1___\n",
    "\n",
    "___range(Start,End) returns sequence of numbers from Start to End-1___\n",
    "\n",
    "___range(Start,End,step) returns sequence of numbers from Start to End-1 but with incremented by step___"
   ]
  },
  {
   "cell_type": "code",
   "execution_count": 15,
   "metadata": {},
   "outputs": [
    {
     "name": "stdout",
     "output_type": "stream",
     "text": [
      "0 2 4 6 8 "
     ]
    }
   ],
   "source": [
    "a = range(0,10,2)\n",
    "for i in a:\n",
    "    print (i,end=\" \")"
   ]
  },
  {
   "cell_type": "markdown",
   "metadata": {},
   "source": [
    "# Question 3\n",
    "**Consider two numbers. Perform their subtraction and if the result of subtraction is greater than 25, print their multiplication result else print their division result**"
   ]
  },
  {
   "cell_type": "code",
   "execution_count": 19,
   "metadata": {},
   "outputs": [
    {
     "name": "stdout",
     "output_type": "stream",
     "text": [
      "2.0\n"
     ]
    }
   ],
   "source": [
    "# Code1\n",
    "\n",
    "a = 50\n",
    "b = 25\n",
    "c= a-b\n",
    "if c > 25:\n",
    "    print(a*b)\n",
    "else:\n",
    "    print(a/b)\n",
    "        \n",
    "    "
   ]
  },
  {
   "cell_type": "code",
   "execution_count": 53,
   "metadata": {},
   "outputs": [
    {
     "name": "stdout",
     "output_type": "stream",
     "text": [
      "Enter a = 60\n",
      "Enter b = 30\n",
      "Since subtraction value of a & b is greater than 25 O/P is a*b 1800\n"
     ]
    }
   ],
   "source": [
    "# Code2\n",
    "\n",
    "a = input(\"Enter a = \")\n",
    "b = input(\"Enter b = \")\n",
    "x = int(a)\n",
    "y = int(b)\n",
    "c = x - y\n",
    "if c > 25:\n",
    "    print(\"Since subtraction value of a & b is greater than 25 O/P is a*b\",x*y)\n",
    "else:\n",
    "    print(\"Since subtraction value of a & b is less then or equal than 25 O/P is a/b\",x/y)"
   ]
  },
  {
   "cell_type": "markdown",
   "metadata": {},
   "source": [
    "# Question 4\n",
    "__Consider a list of 10 elements of integer values. If the number in the list is divisible by 2, print the result as \"square of that number minus 2\"__"
   ]
  },
  {
   "cell_type": "code",
   "execution_count": 97,
   "metadata": {},
   "outputs": [
    {
     "name": "stdout",
     "output_type": "stream",
     "text": [
      "2\n",
      "14\n",
      "34\n",
      "62\n",
      "98\n"
     ]
    }
   ],
   "source": [
    "a = [1,2,3,4,5,6,7,8,9,10]\n",
    "for i in a:\n",
    "    if i%2==0:\n",
    "        print(i**2-2)\n",
    "          "
   ]
  },
  {
   "cell_type": "markdown",
   "metadata": {},
   "source": [
    "# Question 5\n",
    "__Consider a list of 10 elements. Print all the elements in the list which are greater than 7 when that\n",
    "number is divided 2__"
   ]
  },
  {
   "cell_type": "code",
   "execution_count": 100,
   "metadata": {},
   "outputs": [
    {
     "name": "stdout",
     "output_type": "stream",
     "text": [
      "16\n",
      "18\n",
      "20\n"
     ]
    }
   ],
   "source": [
    "a = [2,4,6,8,10,12,14,16,18,20]\n",
    "for i in a:\n",
    "    if i//2 > 7:\n",
    "        print(i)"
   ]
  }
 ],
 "metadata": {
  "kernelspec": {
   "display_name": "Python 3",
   "language": "python",
   "name": "python3"
  },
  "language_info": {
   "codemirror_mode": {
    "name": "ipython",
    "version": 3
   },
   "file_extension": ".py",
   "mimetype": "text/x-python",
   "name": "python",
   "nbconvert_exporter": "python",
   "pygments_lexer": "ipython3",
   "version": "3.7.6"
  }
 },
 "nbformat": 4,
 "nbformat_minor": 4
}
