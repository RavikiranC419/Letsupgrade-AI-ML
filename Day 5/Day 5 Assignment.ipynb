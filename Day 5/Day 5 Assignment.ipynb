{
 "cells": [
  {
   "cell_type": "markdown",
   "metadata": {},
   "source": [
    "# Question 1\n",
    "__Program to find the first 20 non-even prime natural numbers__"
   ]
  },
  {
   "cell_type": "code",
   "execution_count": 62,
   "metadata": {},
   "outputs": [
    {
     "name": "stdout",
     "output_type": "stream",
     "text": [
      "3 5 7 11 13 17 19 23 29 31 37 41 43 47 53 59 61 67 71 73 "
     ]
    }
   ],
   "source": [
    "def prime(N): \n",
    "    i, j, flag = 0, 0, 0 \n",
    "    for i in range(3, N + 1, 1): \n",
    "        flag = 1 \n",
    "        for j in range(2, ((i // 2) + 1), 1): \n",
    "            if (i % j == 0): \n",
    "                flag = 0\n",
    "                break \n",
    "        if (flag == 1): \n",
    "            print(i, end = \" \") \n",
    "N = 75\n",
    "prime(N)"
   ]
  },
  {
   "cell_type": "markdown",
   "metadata": {},
   "source": [
    "# Question 2\n",
    "__Python program to implement 15 functions of string__"
   ]
  },
  {
   "cell_type": "code",
   "execution_count": 28,
   "metadata": {},
   "outputs": [
    {
     "name": "stdout",
     "output_type": "stream",
     "text": [
      "Hello World\n",
      "llo\n",
      "11\n",
      "Hello world\n",
      "hello world\n",
      "2\n",
      "6\n",
      "False\n",
      "False\n",
      "HELLO WORLD\n",
      "Hello World\n",
      "hELLO wORLD\n",
      "True\n",
      "Hello World,How are you\n",
      "Hello Earth\n"
     ]
    }
   ],
   "source": [
    "a = \"Hello World\"\n",
    "b = a.capitalize()\n",
    "c = a.casefold()\n",
    "d = a.count(\"o\")\n",
    "e = a.index(\"W\")\n",
    "f = a.islower()\n",
    "g = a.isupper()\n",
    "h = a.upper()\n",
    "i = a.lstrip()\n",
    "j = a.swapcase()\n",
    "k = \"or\" in a\n",
    "l = \"How are you\"\n",
    "m = a.replace(\"World\",\"Earth\")\n",
    "\n",
    "print(a)\n",
    "print(a[2:5])\n",
    "print(len(a))\n",
    "print(b)\n",
    "print(c)\n",
    "print(d)\n",
    "print(e)\n",
    "print(f)\n",
    "print(g)\n",
    "print(h)\n",
    "print(i)\n",
    "print(j)\n",
    "print(k)\n",
    "print(a+\",\"+l)\n",
    "print(m)"
   ]
  },
  {
   "cell_type": "markdown",
   "metadata": {},
   "source": [
    "# Question 3\n",
    "__Program to check if the given string is a Palindrome or Anagram or None of them.Display the message accordingly__"
   ]
  },
  {
   "cell_type": "code",
   "execution_count": 89,
   "metadata": {},
   "outputs": [
    {
     "name": "stdout",
     "output_type": "stream",
     "text": [
      "Enter your string here Madam\n",
      "Entered String is Palindrome\n"
     ]
    }
   ],
   "source": [
    "def pali(word, word1):\n",
    "    word = input(\"Enter your string here \")\n",
    "    if word.lower() == word.lower()[::-1]:\n",
    "        print(\"Entered String is Palindrome\")\n",
    "    else:\n",
    "        word1 = input(\"Enter another string here \")\n",
    "        if sorted(word.lower()) == sorted(word1.lower()):\n",
    "            print(\"Entered String is Anagram\")\n",
    "        else:\n",
    "             print(\"Entered String is neither Palindrome nor Anagram\")\n",
    "            \n",
    "pali(word , word1)"
   ]
  },
  {
   "cell_type": "markdown",
   "metadata": {},
   "source": [
    "# Question 4\n",
    "__Python's user defined function that removes all the additional characters from the string and converts it finally to lower case using built-in lower()__"
   ]
  },
  {
   "cell_type": "code",
   "execution_count": 121,
   "metadata": {},
   "outputs": [
    {
     "name": "stdout",
     "output_type": "stream",
     "text": [
      "Ravikirangmailcom\n"
     ]
    }
   ],
   "source": [
    "a = \"Ravikiran@gmail.com\"\n",
    "b = \"\"\n",
    "for char in a:\n",
    "    if char.isalnum():\n",
    "       b += char\n",
    "\n",
    "print(b)"
   ]
  }
 ],
 "metadata": {
  "kernelspec": {
   "display_name": "Python 3",
   "language": "python",
   "name": "python3"
  },
  "language_info": {
   "codemirror_mode": {
    "name": "ipython",
    "version": 3
   },
   "file_extension": ".py",
   "mimetype": "text/x-python",
   "name": "python",
   "nbconvert_exporter": "python",
   "pygments_lexer": "ipython3",
   "version": "3.7.6"
  }
 },
 "nbformat": 4,
 "nbformat_minor": 4
}
